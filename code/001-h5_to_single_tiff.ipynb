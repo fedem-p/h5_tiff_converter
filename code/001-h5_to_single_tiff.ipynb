{
 "cells": [
  {
   "cell_type": "markdown",
   "id": "70985939",
   "metadata": {},
   "source": [
    "# Conversion from a H5 file with a list of images and metadata to tif files\n",
    "\n",
    "Converting all the images in a h5 file and saving them in a folder \n"
   ]
  },
  {
   "cell_type": "code",
   "execution_count": 1,
   "id": "435a6aa2",
   "metadata": {},
   "outputs": [],
   "source": [
    "import flammkuchen as fl\n",
    "import tifffile as tiff\n",
    "import numpy as np\n",
    "import os\n",
    "from pathlib import Path\n",
    "from h5_2_tiff_converter import *\n",
    "from tqdm import tqdm"
   ]
  },
  {
   "cell_type": "code",
   "execution_count": 2,
   "id": "e8cfb1b1",
   "metadata": {},
   "outputs": [],
   "source": [
    "master_folder = r\"E:\\Datasets\\file.h5\"\n",
    "save_name = \"save_name\"\n",
    "mode = \"DEFAULT\""
   ]
  },
  {
   "cell_type": "code",
   "execution_count": 3,
   "id": "e8621b3b",
   "metadata": {},
   "outputs": [],
   "source": [
    "file = H5File(master_folder,save_name,mode)"
   ]
  },
  {
   "cell_type": "code",
   "execution_count": 4,
   "id": "afcbfb7e",
   "metadata": {},
   "outputs": [
    {
     "data": {
      "text/plain": [
       "'DEFAULT'"
      ]
     },
     "execution_count": 4,
     "metadata": {},
     "output_type": "execute_result"
    }
   ],
   "source": [
    "file.mode"
   ]
  },
  {
   "cell_type": "code",
   "execution_count": 5,
   "id": "f6dd6afa",
   "metadata": {},
   "outputs": [
    {
     "data": {
      "text/plain": [
       "'E:\\\\Datasets'"
      ]
     },
     "execution_count": 5,
     "metadata": {},
     "output_type": "execute_result"
    }
   ],
   "source": [
    "os.path.dirname(master_folder)"
   ]
  },
  {
   "cell_type": "code",
   "execution_count": 6,
   "id": "338214be",
   "metadata": {},
   "outputs": [
    {
     "name": "stdout",
     "output_type": "stream",
     "text": [
      "Conversion completed\n"
     ]
    }
   ],
   "source": [
    "file.convert()\n"
   ]
  },
  {
   "cell_type": "code",
   "execution_count": null,
   "id": "e25629db",
   "metadata": {},
   "outputs": [],
   "source": []
  },
  {
   "cell_type": "code",
   "execution_count": null,
   "id": "baf1110b",
   "metadata": {},
   "outputs": [],
   "source": []
  },
  {
   "cell_type": "code",
   "execution_count": null,
   "id": "fae6f800",
   "metadata": {},
   "outputs": [],
   "source": []
  }
 ],
 "metadata": {
  "kernelspec": {
   "display_name": "Python 3",
   "language": "python",
   "name": "python3"
  },
  "language_info": {
   "codemirror_mode": {
    "name": "ipython",
    "version": 3
   },
   "file_extension": ".py",
   "mimetype": "text/x-python",
   "name": "python",
   "nbconvert_exporter": "python",
   "pygments_lexer": "ipython3",
   "version": "3.9.4"
  }
 },
 "nbformat": 4,
 "nbformat_minor": 5
}

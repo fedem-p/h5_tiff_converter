{
 "cells": [
  {
   "cell_type": "markdown",
   "id": "d98d58fe-3d93-48cd-99eb-1d16f32fa0b9",
   "metadata": {},
   "source": [
    "# Conversion from a H5 file with a list of images and metadata to tif files\n",
    "\n",
    "Converting all the images in a h5 file and saving them in a folder \n"
   ]
  },
  {
   "cell_type": "code",
   "execution_count": 173,
   "id": "348c285d-5f09-4aa5-b5ee-f1fa4ed13d6c",
   "metadata": {},
   "outputs": [],
   "source": [
    "import flammkuchen as fl\n",
    "import tifffile as tiff\n",
    "import numpy as np\n",
    "import json\n",
    "import matplotlib.pyplot as plt\n",
    "import os\n",
    "from pathlib import Path\n",
    "from h5_2_tiff.h5_2_tiff_converter import *\n",
    "from tqdm import tqdm"
   ]
  },
  {
   "cell_type": "code",
   "execution_count": null,
   "id": "6c620115-3126-4974-8f6a-6351552768e8",
   "metadata": {},
   "outputs": [],
   "source": []
  },
  {
   "cell_type": "code",
   "execution_count": 179,
   "id": "a0c6aabb-243a-4220-91d3-cce4bea2e205",
   "metadata": {},
   "outputs": [
    {
     "name": "stdout",
     "output_type": "stream",
     "text": [
      "True\n",
      "True\n",
      "True\n",
      "True\n",
      "True\n",
      "True\n",
      "True\n"
     ]
    }
   ],
   "source": [
    "# insert folder path here\n",
    "master_folder = r\"\\\\FUNES/Shared/Fede/210930_LFM/2021_09_30\"\n",
    "h5_key = \"h5\"\n",
    "\n",
    "path_list = []\n",
    "save_pre = []\n",
    "\n",
    "for filename in os.listdir(master_folder):\n",
    "    path_list.append( os.path.join(master_folder,filename))\n",
    "    save_pre.append(filename)\n",
    "    \n",
    "    \n",
    "for p in path_list:\n",
    "    print(os.path.exists(p))\n",
    "    "
   ]
  },
  {
   "cell_type": "code",
   "execution_count": 175,
   "id": "a4876e95-7ac9-4509-a13b-251da19830f1",
   "metadata": {},
   "outputs": [
    {
     "data": {
      "text/plain": [
       "(['\\\\\\\\FUNES/Shared/Fede/210930_LFM/2021_09_30\\\\2021_09_30_f0',\n",
       "  '\\\\\\\\FUNES/Shared/Fede/210930_LFM/2021_09_30\\\\2021_09_30_f0_line_50',\n",
       "  '\\\\\\\\FUNES/Shared/Fede/210930_LFM/2021_09_30\\\\2021_09_30_f0_longexp',\n",
       "  '\\\\\\\\FUNES/Shared/Fede/210930_LFM/2021_09_30\\\\2021_09_30_f1',\n",
       "  '\\\\\\\\FUNES/Shared/Fede/210930_LFM/2021_09_30\\\\2021_09_30_f2',\n",
       "  '\\\\\\\\FUNES/Shared/Fede/210930_LFM/2021_09_30\\\\2021_09_30_f3',\n",
       "  '\\\\\\\\FUNES/Shared/Fede/210930_LFM/2021_09_30\\\\test'],\n",
       " ['2021_09_30_f0',\n",
       "  '2021_09_30_f0_line_50',\n",
       "  '2021_09_30_f0_longexp',\n",
       "  '2021_09_30_f1',\n",
       "  '2021_09_30_f2',\n",
       "  '2021_09_30_f3',\n",
       "  'test'])"
      ]
     },
     "execution_count": 175,
     "metadata": {},
     "output_type": "execute_result"
    }
   ],
   "source": [
    "path_list,save_pre"
   ]
  },
  {
   "cell_type": "code",
   "execution_count": 176,
   "id": "bfb6c0e6-78f3-4f17-93d8-f75003893633",
   "metadata": {},
   "outputs": [
    {
     "name": "stderr",
     "output_type": "stream",
     "text": [
      "0it [00:00, ?it/s]"
     ]
    },
    {
     "name": "stdout",
     "output_type": "stream",
     "text": [
      "========  0  ============\n",
      "Getting file location\n",
      "Loading\n",
      "Start Processing Images:\n"
     ]
    },
    {
     "name": "stderr",
     "output_type": "stream",
     "text": [
      "1it [00:44, 44.82s/it]"
     ]
    },
    {
     "name": "stdout",
     "output_type": "stream",
     "text": [
      "========  1  ============\n",
      "Getting file location\n",
      "Loading\n",
      "Start Processing Images:\n"
     ]
    },
    {
     "name": "stderr",
     "output_type": "stream",
     "text": [
      "2it [01:29, 44.87s/it]"
     ]
    },
    {
     "name": "stdout",
     "output_type": "stream",
     "text": [
      "========  2  ============\n",
      "Getting file location\n",
      "Loading\n",
      "Start Processing Images:\n"
     ]
    },
    {
     "name": "stderr",
     "output_type": "stream",
     "text": [
      "3it [02:35, 54.47s/it]"
     ]
    },
    {
     "name": "stdout",
     "output_type": "stream",
     "text": [
      "========  3  ============\n",
      "Getting file location\n",
      "Loading\n",
      "Start Processing Images:\n"
     ]
    },
    {
     "name": "stderr",
     "output_type": "stream",
     "text": [
      "4it [03:23, 52.00s/it]"
     ]
    },
    {
     "name": "stdout",
     "output_type": "stream",
     "text": [
      "========  4  ============\n",
      "Getting file location\n",
      "Loading\n",
      "Start Processing Images:\n"
     ]
    },
    {
     "name": "stderr",
     "output_type": "stream",
     "text": [
      "5it [04:22, 54.51s/it]"
     ]
    },
    {
     "name": "stdout",
     "output_type": "stream",
     "text": [
      "========  5  ============\n",
      "Getting file location\n",
      "Loading\n",
      "Start Processing Images:\n"
     ]
    },
    {
     "name": "stderr",
     "output_type": "stream",
     "text": [
      "6it [05:03, 49.78s/it]"
     ]
    },
    {
     "name": "stdout",
     "output_type": "stream",
     "text": [
      "========  6  ============\n",
      "Getting file location\n",
      "Loading\n",
      "Start Processing Images:\n"
     ]
    },
    {
     "name": "stderr",
     "output_type": "stream",
     "text": [
      "7it [05:09, 44.16s/it]\n"
     ]
    }
   ],
   "source": [
    "for i, path in tqdm(enumerate(path_list)):\n",
    "    \n",
    "    print(\"======== \", str(i), \" ============\")\n",
    "    print(\"Getting file location\")\n",
    "    file = get_h5_file(path)\n",
    "\n",
    "    print(\"Loading\")\n",
    "    imgs,motor_meta,t_stamps,meta = load_h5(file)\n",
    "\n",
    "    print(\"Start Processing Images:\")\n",
    "    process_h5(imgs,motor_meta,t_stamps,meta, path, save_pre[i])"
   ]
  },
  {
   "cell_type": "code",
   "execution_count": 181,
   "id": "f9ae24ae-7844-40b6-8ddb-d615de7f8bb0",
   "metadata": {},
   "outputs": [
    {
     "data": {
      "text/plain": [
       "'\\\\\\\\FUNES/Shared/Fede/210930_LFM/2021_09_30\\\\2021_09_30_f1'"
      ]
     },
     "execution_count": 181,
     "metadata": {},
     "output_type": "execute_result"
    }
   ],
   "source": []
  },
  {
   "cell_type": "code",
   "execution_count": 183,
   "id": "68c2594d-53af-4ebb-be0a-264113eee99a",
   "metadata": {},
   "outputs": [],
   "source": [
    "test_tiff = tiff.TiffFile(os.path.join(path_list[3],\"single_tiff/2021_09_30_f1_Pic14.tif\"))"
   ]
  },
  {
   "cell_type": "code",
   "execution_count": 189,
   "id": "35f86908-b775-4536-a28d-fba747bc0fd0",
   "metadata": {},
   "outputs": [
    {
     "name": "stdout",
     "output_type": "stream",
     "text": [
      "andor_metadata\n",
      "eer_metadata\n",
      "epics_metadata\n",
      "fei_metadata\n",
      "fluoview_metadata\n",
      "geotiff_metadata\n",
      "imagej_metadata\n",
      "lsm_metadata\n",
      "mdgel_metadata\n",
      "metaseries_metadata\n",
      "micromanager_metadata\n",
      "nih_metadata\n",
      "ome_metadata\n",
      "philips_metadata\n",
      "pilatus_metadata\n",
      "scanimage_metadata\n",
      "scn_metadata\n",
      "sem_metadata\n",
      "shaped_metadata\n",
      "sis_metadata\n",
      "stk_metadata\n",
      "tvips_metadata\n"
     ]
    }
   ],
   "source": [
    "for x in dir(test_tiff):\n",
    "    if \"metadata\" in x:\n",
    "        print(x)"
   ]
  },
  {
   "cell_type": "code",
   "execution_count": 200,
   "id": "8e4f26f8-7f26-490e-b7bd-7745a5633cd0",
   "metadata": {},
   "outputs": [
    {
     "name": "stdout",
     "output_type": "stream",
     "text": [
      "=====================\n",
      "setup\n",
      "{'axis': ['x', 'y', 'z'], 'ranges': '[array([0.72, 0.78]), array([3.35, 3.45]), array([7.9       , 7.92857143, 7.95714286, 7.98571429, 8.01428571,\\n       8.04285714, 8.07142857, 8.1       ])]', 'start_pos': [0.72, 3.35, 7.9], 'steps': '[2, 2, 8]', 'fish_n': '1', 'note': 'line 52', 'start_time': 1633005584.1134737}\n",
      "=====================\n",
      "motors\n",
      "{'Date': 'Thu Sep 30 14:40:19 2021', 'End_x': 0.72, 'End_y': 3.45, 'End_z': 7.985714285714286, 'Pos_x': 0.7199740524017468, 'Pos_y': 3.450097935953421, 'Pos_z': 7.985710011644834, 'Time_Stamp': 1633005619.7975695}\n",
      "=====================\n",
      "stamps\n",
      "[1633005619.7995317, 1633005621.0069103]\n",
      "=====================\n",
      "shape\n",
      "[2048, 2048]\n"
     ]
    }
   ],
   "source": [
    "for met in test_tiff.shaped_metadata[0]:\n",
    "    print(\"=====================\")\n",
    "    print(met)\n",
    "    print(test_tiff.shaped_metadata[0][met])\n"
   ]
  },
  {
   "cell_type": "code",
   "execution_count": null,
   "id": "986837d8-7377-4f3b-9747-5f9b4f34348d",
   "metadata": {},
   "outputs": [],
   "source": []
  },
  {
   "cell_type": "code",
   "execution_count": null,
   "id": "23395c87-65db-4800-930e-e6a85b3168a8",
   "metadata": {},
   "outputs": [],
   "source": []
  },
  {
   "cell_type": "code",
   "execution_count": null,
   "id": "e5be34e5-d1a0-4270-95f6-4b045b2d22e9",
   "metadata": {},
   "outputs": [],
   "source": []
  }
 ],
 "metadata": {
  "kernelspec": {
   "display_name": "Python 3",
   "language": "python",
   "name": "python3"
  },
  "language_info": {
   "codemirror_mode": {
    "name": "ipython",
    "version": 3
   },
   "file_extension": ".py",
   "mimetype": "text/x-python",
   "name": "python",
   "nbconvert_exporter": "python",
   "pygments_lexer": "ipython3",
   "version": "3.9.4"
  }
 },
 "nbformat": 4,
 "nbformat_minor": 5
}

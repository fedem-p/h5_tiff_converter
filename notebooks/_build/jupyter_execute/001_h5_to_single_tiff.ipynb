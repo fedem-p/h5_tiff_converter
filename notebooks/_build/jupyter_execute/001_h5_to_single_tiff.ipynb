{
 "cells": [
  {
   "cell_type": "markdown",
   "id": "429a2a84",
   "metadata": {},
   "source": [
    "# Conversion from a H5 file with a list of images and metadata to tif files\n",
    "\n",
    "Converting all the images in a h5 file and saving them in a folder \n"
   ]
  },
  {
   "cell_type": "code",
   "execution_count": 1,
   "id": "b4e12c2c",
   "metadata": {},
   "outputs": [
    {
     "ename": "ModuleNotFoundError",
     "evalue": "No module named 'h5_2_tiff_converter'",
     "output_type": "error",
     "traceback": [
      "\u001b[0;31m---------------------------------------------------------------------------\u001b[0m",
      "\u001b[0;31mModuleNotFoundError\u001b[0m                       Traceback (most recent call last)",
      "\u001b[0;32m/tmp/ipykernel_3268/1071384838.py\u001b[0m in \u001b[0;36m<module>\u001b[0;34m\u001b[0m\n\u001b[0;32m----> 1\u001b[0;31m \u001b[0;32mfrom\u001b[0m \u001b[0mh5_2_tiff_converter\u001b[0m \u001b[0;32mimport\u001b[0m \u001b[0;34m*\u001b[0m\u001b[0;34m\u001b[0m\u001b[0;34m\u001b[0m\u001b[0m\n\u001b[0m",
      "\u001b[0;31mModuleNotFoundError\u001b[0m: No module named 'h5_2_tiff_converter'"
     ]
    }
   ],
   "source": [
    "\r\n",
    "from h5_2_tiff_converter import *\r\n"
   ]
  },
  {
   "cell_type": "code",
   "execution_count": null,
   "id": "ad257cae",
   "metadata": {},
   "outputs": [],
   "source": [
    "master_folder = r\"E:\\Datasets\\file.h5\"\r\n",
    "save_name = \"save_name\"\r\n",
    "mode = \"DEFAULT\""
   ]
  },
  {
   "cell_type": "code",
   "execution_count": null,
   "id": "879ba38a",
   "metadata": {},
   "outputs": [],
   "source": [
    "file = H5File(master_folder,save_name,mode)"
   ]
  },
  {
   "cell_type": "code",
   "execution_count": null,
   "id": "e1bb8aca",
   "metadata": {},
   "outputs": [],
   "source": [
    "file.mode"
   ]
  },
  {
   "cell_type": "code",
   "execution_count": null,
   "id": "4118789e",
   "metadata": {},
   "outputs": [],
   "source": [
    "os.path.dirname(master_folder)"
   ]
  },
  {
   "cell_type": "code",
   "execution_count": null,
   "id": "1c01bbbf",
   "metadata": {},
   "outputs": [],
   "source": [
    "file.convert()\r\n"
   ]
  },
  {
   "cell_type": "code",
   "execution_count": null,
   "id": "bd43303d",
   "metadata": {},
   "outputs": [],
   "source": []
  },
  {
   "cell_type": "code",
   "execution_count": null,
   "id": "40788d0d",
   "metadata": {},
   "outputs": [],
   "source": []
  },
  {
   "cell_type": "code",
   "execution_count": null,
   "id": "6bf07b80",
   "metadata": {},
   "outputs": [],
   "source": []
  }
 ],
 "metadata": {
  "interpreter": {
   "hash": "07ead76a0aafa5d14eea29ef3bb7a1aa92250a59644b73fde1bc71e6b80dfd71"
  },
  "kernelspec": {
   "display_name": "Python 3.9.4 64-bit ('py39': conda)",
   "name": "python3"
  },
  "language_info": {
   "codemirror_mode": {
    "name": "ipython",
    "version": 3
   },
   "file_extension": ".py",
   "mimetype": "text/x-python",
   "name": "python",
   "nbconvert_exporter": "python",
   "pygments_lexer": "ipython3",
   "version": "3.8.12"
  }
 },
 "nbformat": 4,
 "nbformat_minor": 5
}
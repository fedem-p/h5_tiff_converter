{
 "cells": [
  {
   "cell_type": "markdown",
   "id": "b0f87fb5",
   "metadata": {},
   "source": [
    "# First Tutorial\n",
    "\n",
    "Converting all the images in a h5 file and saving them in a folder \n"
   ]
  },
  {
   "cell_type": "code",
   "execution_count": 1,
   "id": "e0a52b94",
   "metadata": {},
   "outputs": [],
   "source": [
    "#import package\n",
    "\n",
    "from h5tiff.h5tiff import *\n",
    "import flammkuchen as fl"
   ]
  },
  {
   "cell_type": "code",
   "execution_count": 2,
   "id": "7fc218b2",
   "metadata": {},
   "outputs": [],
   "source": [
    "master_folder = r\"/mnt/data/testing/2021_09_30_f0_line_52.h5\"\n",
    "save_name = \"test\"\n",
    "mode = \"LFM\""
   ]
  },
  {
   "cell_type": "code",
   "execution_count": 3,
   "id": "ef905690",
   "metadata": {},
   "outputs": [],
   "source": [
    "file = H5File(master_folder,save_name,mode)"
   ]
  },
  {
   "cell_type": "code",
   "execution_count": 4,
   "id": "03842c62",
   "metadata": {},
   "outputs": [
    {
     "data": {
      "text/plain": [
       "'LFM'"
      ]
     },
     "execution_count": 4,
     "metadata": {},
     "output_type": "execute_result"
    }
   ],
   "source": [
    "file.mode"
   ]
  },
  {
   "cell_type": "code",
   "execution_count": 5,
   "id": "acbc8b31",
   "metadata": {},
   "outputs": [
    {
     "name": "stderr",
     "output_type": "stream",
     "text": [
      "Saving: 100%|█████████████████████████████████████████████████████████████████████████████████████████████████████████████████████████████████████████████| 32/32 [00:18<00:00,  1.70it/s]"
     ]
    },
    {
     "name": "stdout",
     "output_type": "stream",
     "text": [
      "Conversion completed\n",
      "Conversion completed\n"
     ]
    },
    {
     "name": "stderr",
     "output_type": "stream",
     "text": [
      "\n"
     ]
    }
   ],
   "source": [
    "file.convert()\n"
   ]
  },
  {
   "cell_type": "code",
   "execution_count": 6,
   "id": "f52afeee",
   "metadata": {},
   "outputs": [],
   "source": [
    "a = fl.load(master_folder)"
   ]
  },
  {
   "cell_type": "code",
   "execution_count": 7,
   "id": "3c67bcc9",
   "metadata": {},
   "outputs": [
    {
     "data": {
      "text/plain": [
       "{'axis': ['x', 'y', 'z'],\n",
       " 'ranges': [array([0.62, 0.68]),\n",
       "  array([3.25, 3.35]),\n",
       "  array([7.55      , 7.58285714, 7.61571429, 7.64857143, 7.68142857,\n",
       "         7.71428571, 7.74714286, 7.78      ])],\n",
       " 'start_pos': [0.62, 3.25, 7.55],\n",
       " 'steps': [2, 2, 8],\n",
       " 'fish_n': 0,\n",
       " 'note': 'line 52',\n",
       " 'start_time': 1633004492.3533864}"
      ]
     },
     "execution_count": 7,
     "metadata": {},
     "output_type": "execute_result"
    }
   ],
   "source": [
    "a['metadata']"
   ]
  },
  {
   "cell_type": "code",
   "execution_count": null,
   "id": "64d0d4de",
   "metadata": {},
   "outputs": [],
   "source": []
  },
  {
   "cell_type": "code",
   "execution_count": 8,
   "id": "fe57de08",
   "metadata": {},
   "outputs": [],
   "source": [
    "from tqdm import tqdm"
   ]
  },
  {
   "cell_type": "code",
   "execution_count": null,
   "id": "ab3e54be",
   "metadata": {},
   "outputs": [],
   "source": []
  }
 ],
 "metadata": {
  "interpreter": {
   "hash": "07ead76a0aafa5d14eea29ef3bb7a1aa92250a59644b73fde1bc71e6b80dfd71"
  },
  "kernelspec": {
   "display_name": "Python 3 (ipykernel)",
   "language": "python",
   "name": "python3"
  },
  "language_info": {
   "codemirror_mode": {
    "name": "ipython",
    "version": 3
   },
   "file_extension": ".py",
   "mimetype": "text/x-python",
   "name": "python",
   "nbconvert_exporter": "python",
   "pygments_lexer": "ipython3",
   "version": "3.8.12"
  }
 },
 "nbformat": 4,
 "nbformat_minor": 5
}
